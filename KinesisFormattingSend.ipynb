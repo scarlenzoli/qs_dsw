{
 "cells": [
  {
   "cell_type": "markdown",
   "metadata": {},
   "source": [
    "## Example: Formatting + Sending to AEP via Kinesis"
   ]
  },
  {
   "cell_type": "markdown",
   "metadata": {},
   "source": [
    "### Imports + Declarations"
   ]
  },
  {
   "cell_type": "code",
   "execution_count": 1,
   "metadata": {},
   "outputs": [],
   "source": [
    "import json as JSON\n",
    "import boto3\n",
    "schemaRef={}\n",
    "source={}\n",
    "header={}\n",
    "xdmMeta={}\n",
    "xdmEntity={}\n",
    "body={}\n",
    "data_as_xdm={}"
   ]
  },
  {
   "cell_type": "markdown",
   "metadata": {},
   "source": [
    "### Build XDM Header"
   ]
  },
  {
   "cell_type": "code",
   "execution_count": 2,
   "metadata": {},
   "outputs": [],
   "source": [
    "schemaRef['id'] = 'https://ns.adobe.com/cf/schemas/2ead1a73b41d2d90fd0fefd83d7d15850dd83b1e87a3d18b'\n",
    "schemaRef['contentType'] = 'application/vnd.adobe.xed-full+json;version=1.0'    \n",
    "source['name'] = 'cf_kinesis_connector'\n",
    "header['schemaRef'] = schemaRef\n",
    "header['source'] = source"
   ]
  },
  {
   "cell_type": "markdown",
   "metadata": {},
   "source": [
    "### Build XDM Body"
   ]
  },
  {
   "cell_type": "code",
   "execution_count": 3,
   "metadata": {},
   "outputs": [],
   "source": [
    "xdmMeta['schemaRef'] = schemaRef\n",
    "xdmEntity = {\n",
    "    \"_cf\": {\n",
    "        \"cfAppProfile\": {\n",
    "            \"accountCreatedDate\": \"2021-02-07T13:30:07Z\",\n",
    "            \"appPreferredLanguage\": \"English\",\n",
    "            \"appSelectedProperty\": \"TEC\",\n",
    "            \"receiveOffersPermission\": \"No\",\n",
    "            \"personalizationOptOut\": \"Yes\",\n",
    "            \"analyticsOptOut\": \"No\",\n",
    "            \"accountActivatedDate\": \"2021-02-01T15:40:54Z\"\n",
    "        },\n",
    "        \"cfIdentity\": {\n",
    "            \"accountUid\": \"KINESIS7000\",\n",
    "            \"hashedEmail\": \"kine123456\"\n",
    "        }\n",
    "    },\n",
    "    \"personalEmail\": {\n",
    "        \"address\": \"real-time-demo@gmail.com\"\n",
    "    }\n",
    "}\n",
    "body['xdmMeta'] = xdmMeta\n",
    "body['xdmEntity'] = xdmEntity"
   ]
  },
  {
   "cell_type": "markdown",
   "metadata": {},
   "source": [
    "### Build Full Message"
   ]
  },
  {
   "cell_type": "code",
   "execution_count": 4,
   "metadata": {},
   "outputs": [
    {
     "name": "stdout",
     "output_type": "stream",
     "text": [
      "<class 'str'>\n"
     ]
    }
   ],
   "source": [
    "data_as_xdm['header'] = header\n",
    "data_as_xdm['body'] = body\n",
    "final_data = JSON.dumps(data_as_xdm)\n",
    "print(type(final_data))\n",
    "#print(JSON.dumps(JSON.loads(final_data), indent=4))"
   ]
  },
  {
   "cell_type": "markdown",
   "metadata": {},
   "source": [
    "### Send to Kinesis"
   ]
  },
  {
   "cell_type": "code",
   "execution_count": 5,
   "metadata": {},
   "outputs": [],
   "source": [
    "kinesis_client = boto3.client(\n",
    "    'kinesis',\n",
    "    aws_access_key_id='****',\n",
    "    aws_secret_access_key='****',\n",
    "    region_name='us-east-1'\n",
    ")\n",
    "#kinesis_client.list_streams()"
   ]
  },
  {
   "cell_type": "code",
   "execution_count": 10,
   "metadata": {},
   "outputs": [
    {
     "name": "stdout",
     "output_type": "stream",
     "text": [
      "added to stream\n",
      " {\n",
      "  \"ShardId\": \"shardId-000000000000\",\n",
      "  \"SequenceNumber\": \"49615176027827390703024446001339698379010907711876366338\",\n",
      "  \"ResponseMetadata\": {\n",
      "    \"RequestId\": \"c5985a66-08e1-8608-9d03-db58b5073277\",\n",
      "    \"HTTPStatusCode\": 200,\n",
      "    \"HTTPHeaders\": {\n",
      "      \"x-amzn-requestid\": \"c5985a66-08e1-8608-9d03-db58b5073277\",\n",
      "      \"x-amz-id-2\": \"kVTxacTrJb0pAsHIW0jVhO7XYqVPNQeoVKl9D7jYpu1RZpN8bw80/lofU18F6atf8SFj+idl5HqTSwmb40tVI2oUjUFXZcoN\",\n",
      "      \"date\": \"Mon, 08 Feb 2021 18:12:14 GMT\",\n",
      "      \"content-type\": \"application/x-amz-json-1.1\",\n",
      "      \"content-length\": \"110\"\n",
      "    },\n",
      "    \"RetryAttempts\": 0\n",
      "  }\n",
      "}\n"
     ]
    }
   ],
   "source": [
    "try:\n",
    "    stream_rtrn = kinesis_client.put_record(\n",
    "                      StreamName='test_kinesis',\n",
    "                      Data=JSON.dumps(data_as_xdm),\n",
    "                      PartitionKey='123a'\n",
    "                  )\n",
    "    print('added to stream\\n', JSON.dumps(stream_rtrn, indent=3))\n",
    "except Exception as e:\n",
    "    print('failed to add data to stream\\n', e)"
   ]
  }
 ],
 "metadata": {
  "kernelspec": {
   "display_name": "Python 3",
   "language": "python",
   "name": "python3"
  },
  "language_info": {
   "codemirror_mode": {
    "name": "ipython",
    "version": 3
   },
   "file_extension": ".py",
   "mimetype": "text/x-python",
   "name": "python",
   "nbconvert_exporter": "python",
   "pygments_lexer": "ipython3",
   "version": "3.6.7"
  }
 },
 "nbformat": 4,
 "nbformat_minor": 4
}
